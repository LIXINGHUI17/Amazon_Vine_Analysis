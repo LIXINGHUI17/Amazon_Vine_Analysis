{
  "nbformat": 4,
  "nbformat_minor": 0,
  "metadata": {
    "colab": {
      "name": "Vine_Review_Analysis.ipynb",
      "provenance": [],
      "collapsed_sections": [],
      "authorship_tag": "ABX9TyPeMCufv9LzeqLWUu/BmRwx",
      "include_colab_link": true
    },
    "kernelspec": {
      "name": "python3",
      "display_name": "Python 3"
    },
    "language_info": {
      "name": "python"
    }
  },
  "cells": [
    {
      "cell_type": "markdown",
      "metadata": {
        "id": "view-in-github",
        "colab_type": "text"
      },
      "source": [
        "<a href=\"https://colab.research.google.com/github/LIXINGHUI17/Amazon_Vine_Analysis/blob/main/Vine_Review_Analysis.ipynb\" target=\"_parent\"><img src=\"https://colab.research.google.com/assets/colab-badge.svg\" alt=\"Open In Colab\"/></a>"
      ]
    },
    {
      "cell_type": "code",
      "metadata": {
        "colab": {
          "base_uri": "https://localhost:8080/"
        },
        "id": "Qx6j58FDXMc6",
        "outputId": "da18cdea-6968-4f89-eb62-15ab1216ce6b"
      },
      "source": [
        "import os\n",
        "# Find the latest version of spark 3.0  from http://www.apache.org/dist/spark/ and enter as the spark version\n",
        "# For example:\n",
        "# spark_version = 'spark-3.0.3'\n",
        "spark_version = 'spark-3.1.2'\n",
        "os.environ['SPARK_VERSION']=spark_version\n",
        "\n",
        "# Install Spark and Java\n",
        "!apt-get update\n",
        "!apt-get install openjdk-11-jdk-headless -qq > /dev/null\n",
        "!wget -q http://www.apache.org/dist/spark/$SPARK_VERSION/$SPARK_VERSION-bin-hadoop2.7.tgz\n",
        "!tar xf $SPARK_VERSION-bin-hadoop2.7.tgz\n",
        "!pip install -q findspark\n",
        "\n",
        "# Set Environment Variables\n",
        "import os\n",
        "os.environ[\"JAVA_HOME\"] = \"/usr/lib/jvm/java-11-openjdk-amd64\"\n",
        "os.environ[\"SPARK_HOME\"] = f\"/content/{spark_version}-bin-hadoop2.7\"\n",
        "\n",
        "# Start a SparkSession\n",
        "import findspark\n",
        "findspark.init()"
      ],
      "execution_count": 1,
      "outputs": [
        {
          "output_type": "stream",
          "text": [
            "\r0% [Working]\r            \rIgn:1 https://developer.download.nvidia.com/compute/cuda/repos/ubuntu1804/x86_64  InRelease\n",
            "\r0% [Connecting to archive.ubuntu.com] [Connecting to security.ubuntu.com] [Conn\r                                                                               \rHit:2 https://cloud.r-project.org/bin/linux/ubuntu bionic-cran40/ InRelease\n",
            "\r0% [Connecting to archive.ubuntu.com] [Connecting to security.ubuntu.com] [Conn\r                                                                               \rIgn:3 https://developer.download.nvidia.com/compute/machine-learning/repos/ubuntu1804/x86_64  InRelease\n",
            "\r0% [Connecting to archive.ubuntu.com (91.189.88.142)] [Connecting to security.u\r0% [2 InRelease gpgv 3,626 B] [Connecting to archive.ubuntu.com (91.189.88.142)\r                                                                               \rHit:4 https://developer.download.nvidia.com/compute/cuda/repos/ubuntu1804/x86_64  Release\n",
            "Hit:5 https://developer.download.nvidia.com/compute/machine-learning/repos/ubuntu1804/x86_64  Release\n",
            "Hit:6 http://ppa.launchpad.net/c2d4u.team/c2d4u4.0+/ubuntu bionic InRelease\n",
            "Get:7 http://security.ubuntu.com/ubuntu bionic-security InRelease [88.7 kB]\n",
            "Hit:8 http://archive.ubuntu.com/ubuntu bionic InRelease\n",
            "Get:10 http://archive.ubuntu.com/ubuntu bionic-updates InRelease [88.7 kB]\n",
            "Hit:11 http://ppa.launchpad.net/cran/libgit2/ubuntu bionic InRelease\n",
            "Hit:13 http://ppa.launchpad.net/deadsnakes/ppa/ubuntu bionic InRelease\n",
            "Get:14 http://archive.ubuntu.com/ubuntu bionic-backports InRelease [74.6 kB]\n",
            "Hit:15 http://ppa.launchpad.net/graphics-drivers/ppa/ubuntu bionic InRelease\n",
            "Fetched 252 kB in 2s (117 kB/s)\n",
            "Reading package lists... Done\n"
          ],
          "name": "stdout"
        }
      ]
    },
    {
      "cell_type": "code",
      "metadata": {
        "id": "89AymrnHXQZW"
      },
      "source": [
        "from pyspark.sql import SparkSession\n",
        "spark = SparkSession.builder.appName(\"Challenge\").config(\"spark.driver.extraClassPath\",\"/content/postgresql-42.2.16.jar\").getOrCreate()"
      ],
      "execution_count": 2,
      "outputs": []
    },
    {
      "cell_type": "code",
      "metadata": {
        "colab": {
          "base_uri": "https://localhost:8080/"
        },
        "id": "VkM9YwTHXQdq",
        "outputId": "8d4e35b6-e3dc-44f4-ee17-fee1ae54fcaf"
      },
      "source": [
        "from pyspark import SparkFiles\n",
        "url = \"https://s3.amazonaws.com/amazon-reviews-pds/tsv/amazon_reviews_us_Software_v1_00.tsv.gz\"\n",
        "spark.sparkContext.addFile(url)\n",
        "df = spark.read.option(\"encoding\", \"UTF-8\").csv(SparkFiles.get(\"\"), sep=\"\\t\", header=True, inferSchema=True)\n",
        "df.show()"
      ],
      "execution_count": 3,
      "outputs": [
        {
          "output_type": "stream",
          "text": [
            "+-----------+-----------+--------------+----------+--------------+--------------------+----------------+-----------+-------------+-----------+----+-----------------+--------------------+--------------------+-----------+\n",
            "|marketplace|customer_id|     review_id|product_id|product_parent|       product_title|product_category|star_rating|helpful_votes|total_votes|vine|verified_purchase|     review_headline|         review_body|review_date|\n",
            "+-----------+-----------+--------------+----------+--------------+--------------------+----------------+-----------+-------------+-----------+----+-----------------+--------------------+--------------------+-----------+\n",
            "|         US|   42605767|R3EFW2STIYIY0I|B00MUTIDKI|     248732228|McAfee 2015 Inter...|        Software|          1|            2|          2|   N|                Y|I was very disapp...|I was very disapp...| 2015-08-31|\n",
            "|         US|   51771800|R12NR0R5A9F7FT|B00EPACNUG|     531462352|Hallmark Card Stu...|        Software|          5|            0|          0|   N|                Y|          Five Stars|I had a little st...| 2015-08-31|\n",
            "|         US|   16053526|R1LSH74R9XAP59|B00164AZA4|     473982505| Search and Rescue 4|        Software|          2|            0|          1|   N|                Y|    Have windows 10?|Tried to download...| 2015-08-31|\n",
            "|         US|   15319481|R1QXUNTF76K7L6|B00E6LIEFM|     189774198|      Quickbooks Pro|        Software|          2|            0|          0|   N|                Y|Disc was corrupt,...|Disc was corrupt,...| 2015-08-31|\n",
            "|         US|    1441820|R2F7DR75PS8NKT|B00VWEBG06|     852470365|Windows 7 Profess...|        Software|          5|            0|          0|   N|                Y|          Five Stars|Just what I neede...| 2015-08-31|\n",
            "|         US|   37107850|R2C1DJSCC8UFS6|B00EP7AP7C|     279360628|Family Tree Maker...|        Software|          3|            0|          0|   N|                Y|         Three Stars|Didn't like havin...| 2015-08-31|\n",
            "|         US|     302120|R1AXGS1W4YFXMX|B00OW2PET4|     729971168|World of Farming:...|        Software|          1|            0|          2|   N|                Y|            One Star|it does not work ...| 2015-08-31|\n",
            "|         US|   20193077|R1XU1B93402SYJ|B00N4OLCRO|     776572654|Photoshop Element...|        Software|          1|            1|          1|   N|                Y|Can't load to my ...|I have tried for ...| 2015-08-31|\n",
            "|         US|   13106017|R2U432NB3OPVR0|B005CELN8W|     222071424|Phantom EFX WMS S...|        Software|          5|            0|          0|   N|                Y|          Five Stars|       love the game| 2015-08-31|\n",
            "|         US|   32587108|R3R6FIMIOQ5SP9|B005CELL1G|     168801430|PaperPort Profess...|        Software|          5|            0|          0|   N|                Y|Meets our small b...|Great software. A...| 2015-08-31|\n",
            "|         US|   32020017|R12TX6V09C9QNQ|B00H09BOXQ|     455502995|Windows 7 Profess...|        Software|          5|            0|          0|   N|                Y|          Five Stars|             Awesome| 2015-08-31|\n",
            "|         US|   13376158|R33UCII6YKUMKV|B00MCLGAAO|     652069521| QuickBooks Pro 2015|        Software|          3|            2|          2|   N|                Y|Nothing New in Th...|To start this rev...| 2015-08-31|\n",
            "|         US|   47098110| RZKDAB9TGO053|B00P6U8C5Y|     871602905|Block Financial H...|        Software|          1|            0|          0|   N|                Y|Missing key infor...|Some key provisio...| 2015-08-31|\n",
            "|         US|   24083274|R2EMN2EEDN73ZA|B00MA5TPN6|     299038085|Parallels Desktop...|        Software|          4|            0|          0|   N|                Y|Probably the best...|Probably the best...| 2015-08-31|\n",
            "|         US|   41137196| RU9LHN1NJDVOI|B000EQ868I|     534229510|Cosmi Print Perfe...|        Software|          5|            0|          0|   N|                Y|          Five Stars|I was pleased wit...| 2015-08-31|\n",
            "|         US|   18003829|R19910SO17BQUE|B00MYXTCMI|      42668324|TurboTax Business...|        Software|          5|            0|          0|   N|                Y|... what it is su...|This program does...| 2015-08-31|\n",
            "|         US|   14460749|R32N10BW8MH847|B008PIQXP0|     116724371|I.R.I.S. Readiris...|        Software|          4|            2|          4|   N|                Y|          Four Stars|Again it should h...| 2015-08-31|\n",
            "|         US|   12641855| R2DNM85DH7FGK|B00KAFOXXU|     471261945|Finale PrintMusic...|        Software|          5|            0|          2|   N|                Y|          Five Stars|               great| 2015-08-31|\n",
            "|         US|   13775565|R2G9RFFW051RWY|B00OKSOLE4|     694520847|Microsoft Office ...|        Software|          5|            0|          0|   N|                Y|          Five Stars|        Easy to use.| 2015-08-31|\n",
            "|         US|   31044774|R26CC1STPSUHBS|B01019T6O0|     510976915|Microsoft Windows...|        Software|          1|           27|         39|   N|                N|Do NOT take the \"...|Do NOT take the &...| 2015-08-31|\n",
            "+-----------+-----------+--------------+----------+--------------+--------------------+----------------+-----------+-------------+-----------+----+-----------------+--------------------+--------------------+-----------+\n",
            "only showing top 20 rows\n",
            "\n"
          ],
          "name": "stdout"
        }
      ]
    },
    {
      "cell_type": "code",
      "metadata": {
        "colab": {
          "base_uri": "https://localhost:8080/"
        },
        "id": "5SNZuwPmXQiH",
        "outputId": "d0c545ca-5d14-41c5-d1e7-12d8182268b7"
      },
      "source": [
        "vine_table = df.select([\"review_id\",\"star_rating\",\"helpful_votes\",\"total_votes\",\"vine\",\"verified_purchase\"])\n",
        "vine_table.show()"
      ],
      "execution_count": 4,
      "outputs": [
        {
          "output_type": "stream",
          "text": [
            "+--------------+-----------+-------------+-----------+----+-----------------+\n",
            "|     review_id|star_rating|helpful_votes|total_votes|vine|verified_purchase|\n",
            "+--------------+-----------+-------------+-----------+----+-----------------+\n",
            "|R3EFW2STIYIY0I|          1|            2|          2|   N|                Y|\n",
            "|R12NR0R5A9F7FT|          5|            0|          0|   N|                Y|\n",
            "|R1LSH74R9XAP59|          2|            0|          1|   N|                Y|\n",
            "|R1QXUNTF76K7L6|          2|            0|          0|   N|                Y|\n",
            "|R2F7DR75PS8NKT|          5|            0|          0|   N|                Y|\n",
            "|R2C1DJSCC8UFS6|          3|            0|          0|   N|                Y|\n",
            "|R1AXGS1W4YFXMX|          1|            0|          2|   N|                Y|\n",
            "|R1XU1B93402SYJ|          1|            1|          1|   N|                Y|\n",
            "|R2U432NB3OPVR0|          5|            0|          0|   N|                Y|\n",
            "|R3R6FIMIOQ5SP9|          5|            0|          0|   N|                Y|\n",
            "|R12TX6V09C9QNQ|          5|            0|          0|   N|                Y|\n",
            "|R33UCII6YKUMKV|          3|            2|          2|   N|                Y|\n",
            "| RZKDAB9TGO053|          1|            0|          0|   N|                Y|\n",
            "|R2EMN2EEDN73ZA|          4|            0|          0|   N|                Y|\n",
            "| RU9LHN1NJDVOI|          5|            0|          0|   N|                Y|\n",
            "|R19910SO17BQUE|          5|            0|          0|   N|                Y|\n",
            "|R32N10BW8MH847|          4|            2|          4|   N|                Y|\n",
            "| R2DNM85DH7FGK|          5|            0|          2|   N|                Y|\n",
            "|R2G9RFFW051RWY|          5|            0|          0|   N|                Y|\n",
            "|R26CC1STPSUHBS|          1|           27|         39|   N|                N|\n",
            "+--------------+-----------+-------------+-----------+----+-----------------+\n",
            "only showing top 20 rows\n",
            "\n"
          ],
          "name": "stdout"
        }
      ]
    },
    {
      "cell_type": "code",
      "metadata": {
        "colab": {
          "base_uri": "https://localhost:8080/"
        },
        "id": "xG2JwaPeXQmd",
        "outputId": "66ec08fa-1360-4649-dc19-4682dcb858aa"
      },
      "source": [
        "# Filter the data and create a new DataFrame or table to retrieve all the rows where \n",
        "# the total_votes count is equal to or greater than 20 to pick reviews that are more \n",
        "# likely to be helpful and to avoid having division by zero errors later on.\n",
        "vine_table_count = vine_table.filter(vine_table.total_votes>=20)\n",
        "vine_table_count.show()"
      ],
      "execution_count": 5,
      "outputs": [
        {
          "output_type": "stream",
          "text": [
            "+--------------+-----------+-------------+-----------+----+-----------------+\n",
            "|     review_id|star_rating|helpful_votes|total_votes|vine|verified_purchase|\n",
            "+--------------+-----------+-------------+-----------+----+-----------------+\n",
            "|R26CC1STPSUHBS|          1|           27|         39|   N|                N|\n",
            "| R7K83D59T9KWS|          1|           16|         26|   N|                N|\n",
            "|R2ATG5BPVILHUM|          1|           16|         25|   N|                N|\n",
            "|R1Q71TAM5ZOYTK|          3|           57|         61|   N|                N|\n",
            "| RR8HYI7C2XKMU|          5|           25|         25|   N|                Y|\n",
            "|R1VDCSJE4CJJIR|          1|           88|         97|   N|                Y|\n",
            "|R2PZMSDKOO1Q6W|          1|           29|         43|   N|                Y|\n",
            "|R39OOYN0DOLINK|          3|           91|        111|   N|                N|\n",
            "|R1PLNHJZ8BKIBG|          1|           44|         46|   N|                Y|\n",
            "|R14G4YQXL17REH|          1|            4|         28|   N|                N|\n",
            "|R3UTVKJF44E0R6|          1|           46|         69|   N|                N|\n",
            "| R2J71KOOLF9UB|          1|            5|         20|   N|                Y|\n",
            "|R2CAD5FOVMTR2L|          2|           17|         28|   N|                N|\n",
            "|R2SW9V1EDQH6O7|          5|           27|         29|   N|                N|\n",
            "|R3SI1TZD809Y0T|          5|           24|         24|   N|                Y|\n",
            "|R23WY4HVMD8SY3|          1|            7|         24|   N|                N|\n",
            "|R2V0VLBRWCMX3I|          1|          563|        601|   N|                N|\n",
            "| R34R79B2P5DJD|          1|           87|        112|   N|                N|\n",
            "| R4D6AQ86X5RQG|          1|           22|         26|   N|                N|\n",
            "|R1BSZ4PB99TN8D|          1|           61|         90|   N|                N|\n",
            "+--------------+-----------+-------------+-----------+----+-----------------+\n",
            "only showing top 20 rows\n",
            "\n"
          ],
          "name": "stdout"
        }
      ]
    },
    {
      "cell_type": "code",
      "metadata": {
        "colab": {
          "base_uri": "https://localhost:8080/"
        },
        "id": "wEIf_AKNXQp_",
        "outputId": "9fb62251-1773-4e33-9365-1f9fd8bd1c70"
      },
      "source": [
        "# Filter the new DataFrame or table created in Step 1 and create a new DataFrame \n",
        "# or table to retrieve all the rows where the number of helpful_votes divided by \n",
        "# total_votes is equal to or greater than 50%.\n",
        "vine_table_helpful_votes_filter = vine_table_count.filter(vine_table_count[\"helpful_votes\"]/vine_table_count[\"total_votes\"]>=0.5)\n",
        "vine_table_helpful_votes_filter.show()"
      ],
      "execution_count": 6,
      "outputs": [
        {
          "output_type": "stream",
          "text": [
            "+--------------+-----------+-------------+-----------+----+-----------------+\n",
            "|     review_id|star_rating|helpful_votes|total_votes|vine|verified_purchase|\n",
            "+--------------+-----------+-------------+-----------+----+-----------------+\n",
            "|R26CC1STPSUHBS|          1|           27|         39|   N|                N|\n",
            "| R7K83D59T9KWS|          1|           16|         26|   N|                N|\n",
            "|R2ATG5BPVILHUM|          1|           16|         25|   N|                N|\n",
            "|R1Q71TAM5ZOYTK|          3|           57|         61|   N|                N|\n",
            "| RR8HYI7C2XKMU|          5|           25|         25|   N|                Y|\n",
            "|R1VDCSJE4CJJIR|          1|           88|         97|   N|                Y|\n",
            "|R2PZMSDKOO1Q6W|          1|           29|         43|   N|                Y|\n",
            "|R39OOYN0DOLINK|          3|           91|        111|   N|                N|\n",
            "|R1PLNHJZ8BKIBG|          1|           44|         46|   N|                Y|\n",
            "|R3UTVKJF44E0R6|          1|           46|         69|   N|                N|\n",
            "|R2CAD5FOVMTR2L|          2|           17|         28|   N|                N|\n",
            "|R2SW9V1EDQH6O7|          5|           27|         29|   N|                N|\n",
            "|R3SI1TZD809Y0T|          5|           24|         24|   N|                Y|\n",
            "|R2V0VLBRWCMX3I|          1|          563|        601|   N|                N|\n",
            "| R34R79B2P5DJD|          1|           87|        112|   N|                N|\n",
            "| R4D6AQ86X5RQG|          1|           22|         26|   N|                N|\n",
            "|R1BSZ4PB99TN8D|          1|           61|         90|   N|                N|\n",
            "|R1QMF01BDRT2LJ|          1|           10|         20|   N|                N|\n",
            "|R2NBUUW79OYBGT|          1|           57|         58|   N|                Y|\n",
            "|R24OEFISZWTBDJ|          4|           17|         25|   N|                N|\n",
            "+--------------+-----------+-------------+-----------+----+-----------------+\n",
            "only showing top 20 rows\n",
            "\n"
          ],
          "name": "stdout"
        }
      ]
    },
    {
      "cell_type": "code",
      "metadata": {
        "colab": {
          "base_uri": "https://localhost:8080/"
        },
        "id": "glO6haZWXQuC",
        "outputId": "b829c846-9a62-4a8b-ed19-d4db4de8d5d8"
      },
      "source": [
        "# Filter the DataFrame or table created in Step 2, and create a new DataFrame \n",
        "# or table that retrieves all the rows where a review was written as part of the \n",
        "# Vine program (paid), vine == 'Y'.\n",
        "Vine_Paid = vine_table_helpful_votes_filter.filter(vine_table_helpful_votes_filter['vine'] == 'Y')\n",
        "Vine_Paid.show()"
      ],
      "execution_count": 7,
      "outputs": [
        {
          "output_type": "stream",
          "text": [
            "+--------------+-----------+-------------+-----------+----+-----------------+\n",
            "|     review_id|star_rating|helpful_votes|total_votes|vine|verified_purchase|\n",
            "+--------------+-----------+-------------+-----------+----+-----------------+\n",
            "|R28EIR3Z6RRUNN|          2|           50|         60|   Y|                N|\n",
            "|R2YO2RESXZEWOF|          4|           24|         25|   Y|                N|\n",
            "| R8GEE2EW3D6S9|          3|           49|         54|   Y|                N|\n",
            "|R33W9V1MX6WKPS|          4|           47|         53|   Y|                N|\n",
            "|R24E3W2ZRIFG8C|          5|           91|         93|   Y|                N|\n",
            "|R2OR3KIFFG4YWT|          4|           75|         81|   Y|                Y|\n",
            "|R1RLJAAFOA5MMS|          2|           25|         27|   Y|                N|\n",
            "| RVYHD7IZ7W99B|          1|           78|         78|   Y|                N|\n",
            "|R12EV95D2T56HA|          5|           37|         37|   Y|                N|\n",
            "|R296NVZGV4VZLP|          5|           41|         44|   Y|                N|\n",
            "| RLJPGO3YMKSI6|          5|           24|         27|   Y|                N|\n",
            "|R33KYYMINUELQA|          2|           23|         23|   Y|                N|\n",
            "| RNNE1AAL4XU7W|          4|           60|         64|   Y|                N|\n",
            "| RC38M96UFDOOI|          3|           78|         87|   Y|                N|\n",
            "| RR9F2YTECN67C|          5|           35|         37|   Y|                N|\n",
            "|R1HB8SSCA97V9U|          5|          100|        105|   Y|                N|\n",
            "| RX4E94KN6K16U|          5|           56|         59|   Y|                N|\n",
            "|R1XLGO18EB3KZA|          5|           25|         25|   Y|                N|\n",
            "|R1R9XER49EMT2N|          2|           34|         35|   Y|                N|\n",
            "| R7ST49NTUXZLV|          5|           23|         25|   Y|                N|\n",
            "+--------------+-----------+-------------+-----------+----+-----------------+\n",
            "only showing top 20 rows\n",
            "\n"
          ],
          "name": "stdout"
        }
      ]
    },
    {
      "cell_type": "code",
      "metadata": {
        "colab": {
          "base_uri": "https://localhost:8080/"
        },
        "id": "kTIahYhPXQyO",
        "outputId": "ea305ed7-8400-42b7-8436-66b76bf857ba"
      },
      "source": [
        "# Check\n",
        "check = vine_table_helpful_votes_filter.groupby('vine').count()\n",
        "check.show()"
      ],
      "execution_count": 8,
      "outputs": [
        {
          "output_type": "stream",
          "text": [
            "+----+-----+\n",
            "|vine|count|\n",
            "+----+-----+\n",
            "|   Y|  248|\n",
            "|   N|17514|\n",
            "+----+-----+\n",
            "\n"
          ],
          "name": "stdout"
        }
      ]
    },
    {
      "cell_type": "code",
      "metadata": {
        "colab": {
          "base_uri": "https://localhost:8080/"
        },
        "id": "3EebaFwrXQ14",
        "outputId": "7d9ab312-3da1-4a66-8307-087a115c9999"
      },
      "source": [
        "# Repeat Step 3, but this time retrieve all the rows where the review was \n",
        "# not part of the Vine program (unpaid), vine == 'N'.\n",
        "Vine_Unpaid = vine_table_helpful_votes_filter.filter(vine_table_helpful_votes_filter['vine'] == 'N')\n",
        "Vine_Unpaid.show()"
      ],
      "execution_count": 9,
      "outputs": [
        {
          "output_type": "stream",
          "text": [
            "+--------------+-----------+-------------+-----------+----+-----------------+\n",
            "|     review_id|star_rating|helpful_votes|total_votes|vine|verified_purchase|\n",
            "+--------------+-----------+-------------+-----------+----+-----------------+\n",
            "|R26CC1STPSUHBS|          1|           27|         39|   N|                N|\n",
            "| R7K83D59T9KWS|          1|           16|         26|   N|                N|\n",
            "|R2ATG5BPVILHUM|          1|           16|         25|   N|                N|\n",
            "|R1Q71TAM5ZOYTK|          3|           57|         61|   N|                N|\n",
            "| RR8HYI7C2XKMU|          5|           25|         25|   N|                Y|\n",
            "|R1VDCSJE4CJJIR|          1|           88|         97|   N|                Y|\n",
            "|R2PZMSDKOO1Q6W|          1|           29|         43|   N|                Y|\n",
            "|R39OOYN0DOLINK|          3|           91|        111|   N|                N|\n",
            "|R1PLNHJZ8BKIBG|          1|           44|         46|   N|                Y|\n",
            "|R3UTVKJF44E0R6|          1|           46|         69|   N|                N|\n",
            "|R2CAD5FOVMTR2L|          2|           17|         28|   N|                N|\n",
            "|R2SW9V1EDQH6O7|          5|           27|         29|   N|                N|\n",
            "|R3SI1TZD809Y0T|          5|           24|         24|   N|                Y|\n",
            "|R2V0VLBRWCMX3I|          1|          563|        601|   N|                N|\n",
            "| R34R79B2P5DJD|          1|           87|        112|   N|                N|\n",
            "| R4D6AQ86X5RQG|          1|           22|         26|   N|                N|\n",
            "|R1BSZ4PB99TN8D|          1|           61|         90|   N|                N|\n",
            "|R1QMF01BDRT2LJ|          1|           10|         20|   N|                N|\n",
            "|R2NBUUW79OYBGT|          1|           57|         58|   N|                Y|\n",
            "|R24OEFISZWTBDJ|          4|           17|         25|   N|                N|\n",
            "+--------------+-----------+-------------+-----------+----+-----------------+\n",
            "only showing top 20 rows\n",
            "\n"
          ],
          "name": "stdout"
        }
      ]
    },
    {
      "cell_type": "markdown",
      "metadata": {
        "id": "nqsDJTLSXfpc"
      },
      "source": [
        "# Determine the total number of reviews, the number of 5-star reviews, and the percentage of 5-star reviews for the two types of review (paid vs unpaid)."
      ]
    },
    {
      "cell_type": "code",
      "metadata": {
        "colab": {
          "base_uri": "https://localhost:8080/"
        },
        "id": "Vf_-XAmgXQ5Y",
        "outputId": "67b0ae29-068a-4e10-c82a-9a99a4b68b92"
      },
      "source": [
        "# Total number of review\n",
        "vine_table_total = vine_table.count()\n",
        "vine_table_total"
      ],
      "execution_count": 10,
      "outputs": [
        {
          "output_type": "execute_result",
          "data": {
            "text/plain": [
              "341931"
            ]
          },
          "metadata": {
            "tags": []
          },
          "execution_count": 10
        }
      ]
    },
    {
      "cell_type": "code",
      "metadata": {
        "colab": {
          "base_uri": "https://localhost:8080/"
        },
        "id": "dW6aexNbXQ89",
        "outputId": "1a5676a5-3ed5-4981-9ce7-1f0c3804f21f"
      },
      "source": [
        "# the number of 5-star reviews\n",
        "five_star_total = vine_table.filter(vine_table.star_rating == 5).count()\n",
        "five_star_total"
      ],
      "execution_count": 11,
      "outputs": [
        {
          "output_type": "execute_result",
          "data": {
            "text/plain": [
              "153947"
            ]
          },
          "metadata": {
            "tags": []
          },
          "execution_count": 11
        }
      ]
    },
    {
      "cell_type": "code",
      "metadata": {
        "colab": {
          "base_uri": "https://localhost:8080/"
        },
        "id": "R2HlT0IjXRAb",
        "outputId": "fbc35338-301e-462d-8ad4-c97798ca54d4"
      },
      "source": [
        "# the percentage of 5-star reviews for paid\n",
        "paid_five_star_reviews = Vine_Paid.filter(Vine_Paid.star_rating == 5).count()\n",
        "paid_five_star_percent = (paid_five_star_reviews / vine_table_total) * 100\n",
        "paid_five_star_percent"
      ],
      "execution_count": 12,
      "outputs": [
        {
          "output_type": "execute_result",
          "data": {
            "text/plain": [
              "0.02983057985383016"
            ]
          },
          "metadata": {
            "tags": []
          },
          "execution_count": 12
        }
      ]
    },
    {
      "cell_type": "code",
      "metadata": {
        "colab": {
          "base_uri": "https://localhost:8080/"
        },
        "id": "TA2xLdi4XRDi",
        "outputId": "064ac11f-9a3b-4d6b-996c-1c19ced0ee63"
      },
      "source": [
        "paid_five_star_reviews"
      ],
      "execution_count": 13,
      "outputs": [
        {
          "output_type": "execute_result",
          "data": {
            "text/plain": [
              "102"
            ]
          },
          "metadata": {
            "tags": []
          },
          "execution_count": 13
        }
      ]
    },
    {
      "cell_type": "code",
      "metadata": {
        "colab": {
          "base_uri": "https://localhost:8080/"
        },
        "id": "6cfbTtCQSCjW",
        "outputId": "6ee23b8d-0b99-4dd6-853f-f852102ac10c"
      },
      "source": [
        "# the percentage of 5-star reviews for unpaid\n",
        "unpaid_five_star_reviews = Vine_Unpaid.filter(Vine_Unpaid.star_rating == 5).count()\n",
        "unpaid_five_star_percent = (unpaid_five_star_reviews / vine_table_total) * 100\n",
        "unpaid_five_star_percent"
      ],
      "execution_count": 14,
      "outputs": [
        {
          "output_type": "execute_result",
          "data": {
            "text/plain": [
              "1.5073216526141238"
            ]
          },
          "metadata": {
            "tags": []
          },
          "execution_count": 14
        }
      ]
    },
    {
      "cell_type": "code",
      "metadata": {
        "colab": {
          "base_uri": "https://localhost:8080/"
        },
        "id": "19-TFpteSCrD",
        "outputId": "97cdb547-5be4-48e0-b9d2-930e99b62e39"
      },
      "source": [
        "unpaid_five_star_reviews"
      ],
      "execution_count": 15,
      "outputs": [
        {
          "output_type": "execute_result",
          "data": {
            "text/plain": [
              "5154"
            ]
          },
          "metadata": {
            "tags": []
          },
          "execution_count": 15
        }
      ]
    }
  ]
}